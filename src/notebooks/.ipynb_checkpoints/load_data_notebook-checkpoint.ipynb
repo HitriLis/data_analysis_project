{
 "cells": [
  {
   "cell_type": "code",
   "outputs": [],
   "source": [
    "import os\n",
    "import json\n",
    "import pandas as pd\n",
    "import clickhouse_connect"
   ],
   "metadata": {
    "collapsed": false
   },
   "id": "a5474eccfcc353f0"
  },
  {
   "cell_type": "code",
   "outputs": [],
   "source": [
    "# Подключение к ClickHouse\n",
    "client = clickhouse_connect.get_client(\n",
    "    host='clickhouse',\n",
    "    port=9000,\n",
    "    database='default'\n",
    ")\n",
    "\n",
    "print(\"Подключение к ClickHouse установлено!\")"
   ],
   "metadata": {
    "collapsed": false
   },
   "id": "adb573cd057ec8bd"
  }
 ],
 "metadata": {
  "kernelspec": {
   "display_name": "Python 3 (ipykernel)",
   "language": "python",
   "name": "python3"
  },
  "language_info": {
   "codemirror_mode": {
    "name": "ipython",
    "version": 3
   },
   "file_extension": ".py",
   "mimetype": "text/x-python",
   "name": "python",
   "nbconvert_exporter": "python",
   "pygments_lexer": "ipython3",
   "version": "3.11.11"
  }
 },
 "nbformat": 4,
 "nbformat_minor": 5
}
