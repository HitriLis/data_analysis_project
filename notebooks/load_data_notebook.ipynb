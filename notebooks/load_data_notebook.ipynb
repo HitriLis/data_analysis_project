{
 "cells": [
  {
   "cell_type": "code",
   "execution_count": 1,
   "id": "a5474eccfcc353f0",
   "metadata": {
    "collapsed": false
   },
   "outputs": [
    {
     "name": "stdout",
     "output_type": "stream",
     "text": [
      "Подключение к ClickHouse: clickhouse:8123/analysis\n"
     ]
    }
   ],
   "source": [
    "import os\n",
    "from dotenv import load_dotenv\n",
    "import json\n",
    "import pandas as pd\n",
    "import clickhouse_connect\n",
    "\n",
    "load_dotenv('/home/jovyan/.env')\n",
    "\n",
    "# Чтение параметров подключения\n",
    "CLICKHOUSE_HOST = os.getenv('CLICKHOUSE_HOST')\n",
    "CLICKHOUSE_PORT = int(os.getenv('CLICKHOUSE_PORT'))\n",
    "CLICKHOUSE_DB = os.getenv('CLICKHOUSE_DB')\n",
    "CLICKHOUSE_USER = os.getenv('CLICKHOUSE_USER')\n",
    "CLICKHOUSE_PASSWORD = os.getenv('CLICKHOUSE_PASSWORD')\n",
    "\n",
    "try:\n",
    "    client = clickhouse_connect.get_client(\n",
    "        host=CLICKHOUSE_HOST,\n",
    "        port=CLICKHOUSE_PORT,\n",
    "        database=CLICKHOUSE_DB,\n",
    "        username=CLICKHOUSE_USER,\n",
    "        password=CLICKHOUSE_PASSWORD\n",
    "    )\n",
    "    print(\"Подключение к ClickHouse установлено!\")\n",
    "except Exception as e:\n",
    "    print(f\"Ошибка подключения: {str(e)}\")"
   ]
  },
  {
   "cell_type": "code",
   "execution_count": null,
   "id": "5c1e74e0-07f3-4a7c-bac6-42d36cb2ab92",
   "metadata": {},
   "outputs": [],
   "source": [
    "logins_count = client.query('SELECT COUNT(*) FROM logins').result_rows\n",
    "user_info_count = client.query('SELECT COUNT(*) FROM user_info').result_rows\n",
    "\n",
    "print(f\"Текущее количество записей в logins: {logins_count[0][0]}\")\n",
    "print(f\"Текущее количество записей в user_info: {user_info_count[0][0]}\")\n",
    "\n",
    "if logins_count[0][0] > 0 or user_info_count[0][0] > 0:\n",
    "    print(\"Внимание: Некоторые данные уже загружены. Продолжить загрузку?\")"
   ]
  },
  {
   "cell_type": "code",
   "outputs": [],
   "source": [
    "logins_csv_path = input(\"Укажите путь к logins.csv (например, /home/jovyan/data/logins.csv): \")\n",
    "if not os.path.isfile(logins_csv_path):\n",
    "        print(f\"Файл не найден: {logins_csv_path}\")\n",
    "else:\n",
    "    logins_df = pd.read_csv(logins_csv_path)\n",
    "    logins_data = logins_df.to_dict('records')\n",
    "    \n",
    "    if not logins_data:\n",
    "        print(\"Нет данных для загрузки.\")\n",
    "    \n",
    "    client.execute(\n",
    "        'INSERT INTO logins (Timestamp, GUID, OuterIP, InnerIP, OpenVPNServer, NgToken) VALUES',\n",
    "        logins_data\n",
    "    )\n",
    "    print(f\"Загружено {len(logins_data)} записей в таблицу logins.\")"
   ],
   "metadata": {
    "collapsed": false
   },
   "id": "c5f6c0dcd26a4ca5"
  },
  {
   "cell_type": "code",
   "outputs": [],
   "source": [
    "user_info_path = input(\"Укажите путь к user_info.json (например, /home/jovyan/data/user_info.json): \")\n",
    "if not os.path.isfile(user_info_path):\n",
    "        print(f\"Файл не найден: {user_info_path}\")\n",
    "else:\n",
    "    with open(user_info_path, 'r') as f:\n",
    "        user_info_data = json.load(f)\n",
    "\n",
    "    if not user_info_data:\n",
    "        print(\"Нет данных для загрузки.\")\n",
    "\n",
    "    client.execute(\n",
    "        'INSERT INTO user_info (GUID, LastName, FirstName, MiddleName) VALUES',\n",
    "        user_info_data\n",
    "    )\n",
    "    print(f\"Загружено {len(user_info_data)} записей в таблицу user_info.\")"
   ],
   "metadata": {
    "collapsed": false
   },
   "id": "7b2f6ee39787f77f"
  }
 ],
 "metadata": {
  "kernelspec": {
   "display_name": "Python 3 (ipykernel)",
   "language": "python",
   "name": "python3"
  },
  "language_info": {
   "codemirror_mode": {
    "name": "ipython",
    "version": 3
   },
   "file_extension": ".py",
   "mimetype": "text/x-python",
   "name": "python",
   "nbconvert_exporter": "python",
   "pygments_lexer": "ipython3",
   "version": "3.9.21"
  }
 },
 "nbformat": 4,
 "nbformat_minor": 5
}
