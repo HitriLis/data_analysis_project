{
 "cells": [
  {
   "cell_type": "code",
   "execution_count": 3,
   "id": "eee0aa583712776c",
   "metadata": {
    "collapsed": false,
    "jupyter": {
     "outputs_hidden": false
    }
   },
   "outputs": [
    {
     "name": "stdout",
     "output_type": "stream",
     "text": [
      "Подключение к ClickHouse установлено!\n"
     ]
    }
   ],
   "source": [
    "import os\n",
    "from dotenv import load_dotenv\n",
    "import json\n",
    "import pandas as pd\n",
    "import clickhouse_connect\n",
    "\n",
    "load_dotenv('/home/jovyan/.env')\n",
    "\n",
    "# Чтение параметров подключения\n",
    "CLICKHOUSE_HOST = os.getenv('CLICKHOUSE_HOST')\n",
    "CLICKHOUSE_PORT = int(os.getenv('CLICKHOUSE_PORT'))\n",
    "CLICKHOUSE_DB = os.getenv('CLICKHOUSE_DB')\n",
    "CLICKHOUSE_USER = os.getenv('CLICKHOUSE_USER')\n",
    "CLICKHOUSE_PASSWORD = os.getenv('CLICKHOUSE_PASSWORD')\n",
    "\n",
    "try:\n",
    "    client = clickhouse_connect.get_client(\n",
    "        host=CLICKHOUSE_HOST,\n",
    "        port=CLICKHOUSE_PORT,\n",
    "        database=CLICKHOUSE_DB,\n",
    "        username=CLICKHOUSE_USER,\n",
    "        password=CLICKHOUSE_PASSWORD\n",
    "    )\n",
    "    print(\"Подключение к ClickHouse установлено!\")\n",
    "except Exception as e:\n",
    "    print(f\"Ошибка подключения: {str(e)}\")"
   ]
  },
  {
   "cell_type": "code",
   "execution_count": 7,
   "id": "ffcd724905adbe34",
   "metadata": {
    "collapsed": false,
    "jupyter": {
     "outputs_hidden": false
    }
   },
   "outputs": [
    {
     "name": "stdout",
     "output_type": "stream",
     "text": [
      "Данные уже есть в базе.\n"
     ]
    }
   ],
   "source": [
    "# Загрузка logins.csv\n",
    "def load_logins():\n",
    "    logins_csv_path = \"/home/jovyan/data/logins.csv\"\n",
    "    exists_logins = bool(client.query(\"SELECT 1 FROM logins LIMIT 1\").result_rows)\n",
    "    if exists_logins:\n",
    "        return \"Данные уже есть в базе.\"\n",
    "    if not os.path.isfile(logins_csv_path):\n",
    "        return f\"Файл не найден: {logins_csv_path}\"\n",
    "    else:\n",
    "        try:\n",
    "            required_columns = ('Timestamp', 'GUID', 'OuterIP', 'InnerIP', 'OpenVPNServer', 'NgToken')\n",
    "            logins_df = pd.read_csv(logins_csv_path, usecols=required_columns)\n",
    "            if not logins_df.empty:\n",
    "                logins_df['Timestamp'] = pd.to_datetime(logins_df['Timestamp'])\n",
    "                client.insert(\n",
    "                    'logins',\n",
    "                    logins_df,\n",
    "                )\n",
    "                return f\"Загружено {len(logins_df)} записей в таблицу logins.\"\n",
    "            else:\n",
    "                return \"В файле нет данных для загрузки.\"\n",
    "        except Exception as e:\n",
    "            return f\"Ошибка при загрузке logins.csv: {e}\"\n",
    "result_load_logins = load_logins()\n",
    "print(result_load_logins)"
   ]
  },
  {
   "cell_type": "code",
   "execution_count": 6,
   "id": "6325c6e4a7517703",
   "metadata": {
    "collapsed": false,
    "jupyter": {
     "outputs_hidden": false
    }
   },
   "outputs": [
    {
     "name": "stdout",
     "output_type": "stream",
     "text": [
      "Данные уже есть в базе.\n"
     ]
    }
   ],
   "source": [
    "# Загрузка user_info.json\n",
    "def load_users():\n",
    "    user_info_path = \"/home/jovyan/data/user_info.json\"\n",
    "    exists_user = bool(client.query(\"SELECT 1 FROM user_info LIMIT 1\").result_rows)\n",
    "    if exists_user:\n",
    "        return \"Данные уже есть в базе.\"\n",
    "    if not os.path.isfile(user_info_path):\n",
    "        return f\"Файл не найден: {user_info_path}\"\n",
    "    else:\n",
    "            with open(user_info_path, 'r', encoding='utf-8') as f:\n",
    "                user_info_data = json.load(f)\n",
    "            df = pd.DataFrame(user_info_data)\n",
    "            if not df.empty:\n",
    "                 try:\n",
    "                    client.insert(\n",
    "                        'user_info',\n",
    "                        df\n",
    "                    )\n",
    "                    return f\"✅ Загружено {len(user_info_data)} записей в таблицу user_info.\"\n",
    "                 except  Exception as e:\n",
    "                   return f\"Ошибка при загрузке user_info.json: {e}\"\n",
    "            else:\n",
    "                return \"В файле нет данных для загрузки.\"\n",
    "result_load_users = load_users()\n",
    "print(result_load_users)"
   ]
  },
  {
   "cell_type": "code",
   "execution_count": null,
   "id": "6847d888-8de1-41d8-a7bb-03a3718a69c7",
   "metadata": {},
   "outputs": [],
   "source": []
  }
 ],
 "metadata": {
  "kernelspec": {
   "display_name": "Python 3 (ipykernel)",
   "language": "python",
   "name": "python3"
  },
  "language_info": {
   "codemirror_mode": {
    "name": "ipython",
    "version": 3
   },
   "file_extension": ".py",
   "mimetype": "text/x-python",
   "name": "python",
   "nbconvert_exporter": "python",
   "pygments_lexer": "ipython3",
   "version": "3.9.21"
  }
 },
 "nbformat": 4,
 "nbformat_minor": 5
}
